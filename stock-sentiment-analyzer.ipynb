{
 "cells": [
  {
   "cell_type": "markdown",
   "id": "24f5e028-3070-4b10-ba62-d6ccb4dca103",
   "metadata": {},
   "source": [
    "## Stock Market Sentiment Analyzer"
   ]
  },
  {
   "cell_type": "markdown",
   "id": "52564d16-8648-47b0-944b-ff7f1c82aa85",
   "metadata": {},
   "source": [
    "### **Project Overview**\n",
    "This project aims to analyze sentiment in stock market-related tweets using Natural Language Processing (NLP). By leveraging **Hugging Face's FinBERT model**, we classify tweets as **positive, negative, or neutral** and explore how sentiment correlates with stock markettrends. "
   ]
  },
  {
   "cell_type": "code",
   "execution_count": 28,
   "id": "a8b091dc-3dd5-447b-b487-fe1913bfed07",
   "metadata": {},
   "outputs": [],
   "source": [
    "# Important Necessary Libraries\n",
    "import pandas as pd\n",
    "import yfinance as yf \n",
    "import requests \n",
    "from bs4 import BeautifulSoup \n",
    "import matplotlib.pyplot as plt\n",
    "import seaborn as sns\n",
    "import re"
   ]
  },
  {
   "cell_type": "code",
   "execution_count": 11,
   "id": "25f153a7-47c7-4093-9ba2-10b5b1cd9deb",
   "metadata": {},
   "outputs": [
    {
     "name": "stdout",
     "output_type": "stream",
     "text": [
      "['train']\n"
     ]
    }
   ],
   "source": [
    "from datasets import load_dataset\n",
    "\n",
    "# Load datasets \n",
    "dataset = load_dataset (\"StephanAkkerman/stock-market-tweets-data\")\n",
    "\n",
    "print(['train'][0:5])"
   ]
  },
  {
   "cell_type": "markdown",
   "id": "30c58aae-bfd0-4758-911e-765fe30cc628",
   "metadata": {},
   "source": [
    "### Cleaning Step "
   ]
  },
  {
   "cell_type": "code",
   "execution_count": 31,
   "id": "b21aeb87-3e3f-46b7-ba89-9f7263330374",
   "metadata": {},
   "outputs": [
    {
     "name": "stdout",
     "output_type": "stream",
     "text": [
      "Tweet:very very little volume. With $10T you'd think they could have $SPX  trading at 10,000 by now.\n",
      "Sentiment:neutral (Confidence: 0.55)\n",
      "\n",
      "Tweet:achieved Target 2780 closing above 50%   level, momentum still up. possible push towards 2842-2886 next week. $SPX $SPY\n",
      "Sentiment:positive (Confidence: 0.94)\n",
      "\n",
      "Tweet:RT : Silver/Gold indicator creates one of the largest bullish reversal patterns in decades while testing multi-decade suppor…\n",
      "Sentiment:positive (Confidence: 0.90)\n",
      "\n",
      "Tweet:Hedged our $MSFT position into close. Seemed to be getting lazy over this past week.\n",
      "Sentiment:negative (Confidence: 0.95)\n",
      "\n",
      "Tweet:RT : 3 Surprisingly Controversial Stocks in Donald Trump's Portfolio   $GILD $MO\n",
      "Sentiment:neutral (Confidence: 0.73)\n",
      "\n"
     ]
    }
   ],
   "source": [
    "def clean_text(text):\n",
    "    text = re.sub(r'http\\S+', '', text) # Remove URL\n",
    "    text = re.sub(r'@\\w+', '', text)    # Remove mentions @user \n",
    "    text = re.sub(r'#\\w+','', text)     # Remove hashtags\n",
    "    return text.strip()\n",
    "\n",
    "\n",
    "for i in range(5):\n",
    "    text = clean_text(dataset['train'][i]['text'])\n",
    "    result = sentiment_pipeline(text)\n",
    "    print(f\"Tweet:{text}\\nSentiment:{result[0]['label']} (Confidence: {result[0]['score']:.2f})\\n\")"
   ]
  },
  {
   "cell_type": "code",
   "execution_count": 19,
   "id": "0d7d6e7f-393d-4ec8-9c4e-75e027c0cf67",
   "metadata": {},
   "outputs": [
    {
     "name": "stderr",
     "output_type": "stream",
     "text": [
      "Device set to use mps:0\n"
     ]
    }
   ],
   "source": [
    "# Hugging Face Transformers for Sentiment Analysis\n",
    "from transformers import pipeline\n",
    "\n",
    "# Load FinBERT model\n",
    "sentiment_pipeline = pipeline(\"text-classification\", model=\"ProsusAI/finbert\")"
   ]
  },
  {
   "cell_type": "code",
   "execution_count": 13,
   "id": "5dc6efc8-b426-4793-8a24-fde00dfda6f6",
   "metadata": {},
   "outputs": [
    {
     "name": "stdout",
     "output_type": "stream",
     "text": [
      "[{'label': 'neutral', 'score': 0.536605179309845}]\n"
     ]
    }
   ],
   "source": [
    "text = dataset['train'][0]['text']\n",
    "result = sentiment_pipeline(text)\n",
    "print(result)"
   ]
  },
  {
   "cell_type": "code",
   "execution_count": 23,
   "id": "d8486074-1e27-4539-93ed-fe91a16eecb0",
   "metadata": {},
   "outputs": [
    {
     "name": "stdout",
     "output_type": "stream",
     "text": [
      "Tweet:@KennyDegu very very little volume. With $10T you'd think they could have $SPX  trading at 10,000 by now.\n",
      "Sentiment:neutral (Confidence: 0.54)\n",
      "\n",
      "Tweet:#ES_F achieved Target 2780 closing above 50% #Fibonacci  level, momentum still up. possible push towards 2842-2886 next week. $SPX $SPY  #tradign #futures https://t.co/wD2A0102nC\n",
      "Sentiment:positive (Confidence: 0.85)\n",
      "\n",
      "Tweet:RT @KimbleCharting: Silver/Gold indicator creates one of the largest bullish reversal patterns in decades while testing multi-decade suppor…\n",
      "Sentiment:positive (Confidence: 0.76)\n",
      "\n",
      "Tweet:@Issaquahfunds Hedged our $MSFT position into close. Seemed to be getting lazy over this past week.\n",
      "Sentiment:negative (Confidence: 0.95)\n",
      "\n",
      "Tweet:RT @zipillinois: 3 Surprisingly Controversial Stocks in Donald Trump's Portfolio @themotleyfool #stocks $GILD $MO https://t.co/d9hlJnSRN3\n",
      "Sentiment:neutral (Confidence: 0.76)\n",
      "\n"
     ]
    }
   ],
   "source": [
    "for i in range(5): \n",
    "    text = dataset['train'][i]['text']\n",
    "    result = sentiment_pipeline(text)\n",
    "    print(f\"Tweet:{text}\\nSentiment:{result[0]['label']} (Confidence: {result[0]['score']:.2f})\\n\")"
   ]
  },
  {
   "cell_type": "code",
   "execution_count": 33,
   "id": "b2219ad3-0a80-40fa-95e6-c4c6bd82be8b",
   "metadata": {},
   "outputs": [
    {
     "name": "stderr",
     "output_type": "stream",
     "text": [
      "/var/folders/z7/jj2xy8g53jnd942hm_zfr1340000gn/T/ipykernel_37986/213220588.py:12: FutureWarning: \n",
      "\n",
      "Passing `palette` without assigning `hue` is deprecated and will be removed in v0.14.0. Assign the `x` variable to `hue` and set `legend=False` for the same effect.\n",
      "\n",
      "  sns.countplot(data=sentiment_df, x='Sentiment', palette='coolwarm')\n"
     ]
    },
    {
     "data": {
      "image/png": "[encoded data removed]",
      "text/plain": [
       "<Figure size 600x400 with 1 Axes>"
      ]
     },
     "metadata": {},
     "output_type": "display_data"
    }
   ],
   "source": [
    "# Collect sentiment results for 100 tweets \n",
    "sentiments = []\n",
    "for i in range(100): \n",
    "    text = clean_text(dataset['train'][i]['text'])\n",
    "    result = sentiment_pipeline(text)\n",
    "    sentiments.append(result[0]['label'])\n",
    "\n",
    "# Convert to DataFrame \n",
    "sentiment_df = pd.DataFrame(sentiments, columns=['Sentiment'])\n",
    "\n",
    "plt.figure(figsize=(6,4))\n",
    "sns.countplot(data=sentiment_df, x='Sentiment', palette='coolwarm')\n",
    "plt.title(\"Stock Market Sentiment Analysis (First 100 Tweets)\")\n",
    "plt.xlabel(\"Sentiment\")\n",
    "plt.ylabel(\"Count\")\n",
    "plt.show()"
   ]
  },
  {
   "cell_type": "code",
   "execution_count": null,
   "id": "1f5a1d2e-7750-4690-adee-70c4503bbb95",
   "metadata": {},
   "outputs": [],
   "source": []
  }
 ],
 "metadata": {
  "kernelspec": {
   "display_name": "Python 3 (ipykernel)",
   "language": "python",
   "name": "python3"
  },
  "language_info": {
   "codemirror_mode": {
    "name": "ipython",
    "version": 3
   },
   "file_extension": ".py",
   "mimetype": "text/x-python",
   "name": "python",
   "nbconvert_exporter": "python",
   "pygments_lexer": "ipython3",
   "version": "3.12.2"
  }
 },
 "nbformat": 4,
 "nbformat_minor": 5
}
