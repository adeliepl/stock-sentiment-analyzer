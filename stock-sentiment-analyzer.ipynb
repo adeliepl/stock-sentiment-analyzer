{
 "cells": [
  {
   "cell_type": "markdown",
   "id": "24f5e028-3070-4b10-ba62-d6ccb4dca103",
   "metadata": {},
   "source": [
    "## Stock Market Sentiment Analyzer"
   ]
  },
  {
   "cell_type": "markdown",
   "id": "52564d16-8648-47b0-944b-ff7f1c82aa85",
   "metadata": {},
   "source": [
    "### **Project Overview**\n",
    "This project aims to analyze sentiment in stock market-related tweets using Natural Language Processing (NLP). By leveraging **Hugging Face's FinBERT model**, we classify tweets as **positive, negative, or neutral** and explore how sentiment correlates with stock markettrends. "
   ]
  },
  {
   "cell_type": "code",
   "execution_count": 9,
   "id": "a8b091dc-3dd5-447b-b487-fe1913bfed07",
   "metadata": {},
   "outputs": [],
   "source": [
    "# Important Necessary Libraries\n",
    "import pandas as pd\n",
    "import yfinance as yf \n",
    "import requests \n",
    "from bs4 import BeautifulSoup \n",
    "import matplotlib.pyplot as plt\n",
    "import seaborn as sns"
   ]
  },
  {
   "cell_type": "code",
   "execution_count": 11,
   "id": "25f153a7-47c7-4093-9ba2-10b5b1cd9deb",
   "metadata": {},
   "outputs": [
    {
     "name": "stdout",
     "output_type": "stream",
     "text": [
      "['train']\n"
     ]
    }
   ],
   "source": [
    "from datasets import load_dataset\n",
    "\n",
    "# Load datasets \n",
    "dataset = load_dataset (\"StephanAkkerman/stock-market-tweets-data\")\n",
    "\n",
    "print(['train'][0:5])"
   ]
  },
  {
   "cell_type": "code",
   "execution_count": 19,
   "id": "0d7d6e7f-393d-4ec8-9c4e-75e027c0cf67",
   "metadata": {},
   "outputs": [
    {
     "name": "stderr",
     "output_type": "stream",
     "text": [
      "Device set to use mps:0\n"
     ]
    }
   ],
   "source": [
    "# Hugging Face Transformers for Sentiment Analysis\n",
    "from transformers import pipeline\n",
    "\n",
    "# Load FinBERT model\n",
    "sentiment_pipeline = pipeline(\"text-classification\", model=\"ProsusAI/finbert\")"
   ]
  },
  {
   "cell_type": "code",
   "execution_count": 13,
   "id": "5dc6efc8-b426-4793-8a24-fde00dfda6f6",
   "metadata": {},
   "outputs": [
    {
     "name": "stdout",
     "output_type": "stream",
     "text": [
      "[{'label': 'neutral', 'score': 0.536605179309845}]\n"
     ]
    }
   ],
   "source": [
    "text = dataset['train'][0]['text']\n",
    "result = sentiment_pipeline(text)\n",
    "print(result)"
   ]
  },
  {
   "cell_type": "code",
   "execution_count": null,
   "id": "d8486074-1e27-4539-93ed-fe91a16eecb0",
   "metadata": {},
   "outputs": [],
   "source": []
  }
 ],
 "metadata": {
  "kernelspec": {
   "display_name": "Python 3 (ipykernel)",
   "language": "python",
   "name": "python3"
  },
  "language_info": {
   "codemirror_mode": {
    "name": "ipython",
    "version": 3
   },
   "file_extension": ".py",
   "mimetype": "text/x-python",
   "name": "python",
   "nbconvert_exporter": "python",
   "pygments_lexer": "ipython3",
   "version": "3.12.2"
  }
 },
 "nbformat": 4,
 "nbformat_minor": 5
}
