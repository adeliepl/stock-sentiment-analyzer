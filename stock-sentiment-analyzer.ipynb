{
 "cells": [
  {
   "cell_type": "markdown",
   "id": "24f5e028-3070-4b10-ba62-d6ccb4dca103",
   "metadata": {},
   "source": [
    "## Stock Market Sentiment Analyzer"
   ]
  },
  {
   "cell_type": "markdown",
   "id": "52564d16-8648-47b0-944b-ff7f1c82aa85",
   "metadata": {},
   "source": [
    "### **Project Overview**\n",
    "This project aims to analyze sentiment in stock market-related tweets using Natural Language Processing (NLP). By leveraging **Hugging Face's FinBERT model**, we classify tweets as **positive, negative, or neutral** and explore how sentiment correlates with stock markettrends. "
   ]
  },
  {
   "cell_type": "code",
   "execution_count": 32,
   "id": "a8b091dc-3dd5-447b-b487-fe1913bfed07",
   "metadata": {},
   "outputs": [],
   "source": [
    "# Important Necessary Libraries\n",
    "import pandas as pd\n",
    "import yfinance as yf \n",
    "import requests \n",
    "from bs4 import BeautifulSoup \n",
    "import matplotlib.pyplot as plt\n",
    "import seaborn as sns\n",
    "import re"
   ]
  },
  {
   "cell_type": "code",
   "execution_count": 33,
   "id": "25f153a7-47c7-4093-9ba2-10b5b1cd9deb",
   "metadata": {},
   "outputs": [
    {
     "name": "stdout",
     "output_type": "stream",
     "text": [
      "{'id': [1, 2, 3, 4, 5], 'created_at': ['2020-04-09 23:59:51+00:00', '2020-04-09 23:58:55+00:00', '2020-04-09 23:58:52+00:00', '2020-04-09 23:58:27+00:00', '2020-04-09 23:57:59+00:00'], 'text': [\"@KennyDegu very very little volume. With $10T you'd think they could have $SPX  trading at 10,000 by now.\", '#ES_F achieved Target 2780 closing above 50% #Fibonacci  level, momentum still up. possible push towards 2842-2886 next week. $SPX $SPY  #tradign #futures https://t.co/wD2A0102nC', 'RT @KimbleCharting: Silver/Gold indicator creates one of the largest bullish reversal patterns in decades while testing multi-decade suppor…', '@Issaquahfunds Hedged our $MSFT position into close. Seemed to be getting lazy over this past week.', \"RT @zipillinois: 3 Surprisingly Controversial Stocks in Donald Trump's Portfolio @themotleyfool #stocks $GILD $MO https://t.co/d9hlJnSRN3\"]}\n"
     ]
    }
   ],
   "source": [
    "from datasets import load_dataset\n",
    "\n",
    "# Load datasets \n",
    "dataset = load_dataset (\"StephanAkkerman/stock-market-tweets-data\")\n",
    "\n",
    "print(dataset['train'][:5])"
   ]
  },
  {
   "cell_type": "markdown",
   "id": "30c58aae-bfd0-4758-911e-765fe30cc628",
   "metadata": {},
   "source": [
    "### Cleaning Step "
   ]
  },
  {
   "cell_type": "code",
   "execution_count": 34,
   "id": "0d7d6e7f-393d-4ec8-9c4e-75e027c0cf67",
   "metadata": {},
   "outputs": [
    {
     "name": "stderr",
     "output_type": "stream",
     "text": [
      "Device set to use mps:0\n"
     ]
    }
   ],
   "source": [
    "# Hugging Face Transformers for Sentiment Analysis\n",
    "from transformers import pipeline\n",
    "\n",
    "# Load FinBERT model\n",
    "sentiment_pipeline = pipeline(\"text-classification\", model=\"ProsusAI/finbert\")"
   ]
  },
  {
   "cell_type": "code",
   "execution_count": 35,
   "id": "b21aeb87-3e3f-46b7-ba89-9f7263330374",
   "metadata": {},
   "outputs": [],
   "source": [
    "def clean_text(text):\n",
    "    text = re.sub(r'http\\S+', '', text) # Remove URL\n",
    "    text = re.sub(r'@\\w+', '', text)    # Remove mentions @user \n",
    "    text = re.sub(r'#\\w+','', text)     # Remove hashtags\n",
    "    text = re.sub(r'#[A-Za-z0-9] +', ' ', text) # Remove special characters \n",
    "    text = re.sub(r'[^\\w\\s$]','', text) # Keep words, numbers, and \"$\" (for stocks)\n",
    "    return text.strip()\n",
    "\n",
    "cleaned_sentiments = []\n",
    "for i in range(5):\n",
    "    cleaned_text = clean_text(dataset['train'][i]['text'])\n",
    "    cleaned_result = sentiment_pipeline(cleaned_text)\n",
    "    cleaned_sentiments.append(cleaned_result[0]['label'])"
   ]
  },
  {
   "cell_type": "code",
   "execution_count": 36,
   "id": "d8486074-1e27-4539-93ed-fe91a16eecb0",
   "metadata": {},
   "outputs": [],
   "source": [
    "original_sentiments = []\n",
    "\n",
    "for i in range(5): \n",
    "    text = dataset['train'][i]['text']\n",
    "    original_result = sentiment_pipeline(text)\n",
    "    original_sentiments.append(original_result[0]['label'])"
   ]
  },
  {
   "cell_type": "code",
   "execution_count": 37,
   "id": "afbfdb31",
   "metadata": {},
   "outputs": [
    {
     "name": "stdout",
     "output_type": "stream",
     "text": [
      "   Original   Cleaned\n",
      "0   neutral   neutral\n",
      "1  positive  positive\n",
      "2  positive  positive\n",
      "3  negative  negative\n",
      "4   neutral   neutral\n"
     ]
    }
   ],
   "source": [
    "# Create DataFrames for comparison \n",
    "df_comparison = pd.DataFrame({'Original': original_sentiments, 'Cleaned': cleaned_sentiments})\n",
    "print(df_comparison.head(10)) # Check the first 10 rows"
   ]
  },
  {
   "cell_type": "code",
   "execution_count": 40,
   "id": "a9e115db",
   "metadata": {},
   "outputs": [
    {
     "name": "stderr",
     "output_type": "stream",
     "text": [
      "/var/folders/z7/jj2xy8g53jnd942hm_zfr1340000gn/T/ipykernel_53774/1696791064.py:5: FutureWarning: \n",
      "\n",
      "Passing `palette` without assigning `hue` is deprecated and will be removed in v0.14.0. Assign the `x` variable to `hue` and set `legend=False` for the same effect.\n",
      "\n",
      "  sns.countplot(data=df_comparison, x='Change', palette = 'coolwarm')\n"
     ]
    },
    {
     "data": {
      "image/png": "[encoded data removed]",
      "text/plain": [
       "<Figure size 1000x600 with 1 Axes>"
      ]
     },
     "metadata": {},
     "output_type": "display_data"
    }
   ],
   "source": [
    "# Count how many tweets changes sentiment \n",
    "df_comparison['Change'] = df_comparison['Original'] != df_comparison['Cleaned']\n",
    "\n",
    "plt.figure(figsize=(10, 6))\n",
    "sns.countplot(data=df_comparison, x='Change', palette = 'coolwarm')\n",
    "plt.title('Impact of Text Cleaning on Sentiment Analysis')\n",
    "plt.xlabel('Sentiment Changed')\n",
    "plt.ylabel('Number of Tweets')\n",
    "plt.xticks(ticks=[0, 1], labels=['No', 'Yes'])\n",
    "plt.show()"
   ]
  },
  {
   "cell_type": "code",
   "execution_count": 38,
   "id": "5dc6efc8-b426-4793-8a24-fde00dfda6f6",
   "metadata": {},
   "outputs": [
    {
     "name": "stdout",
     "output_type": "stream",
     "text": [
      "[{'label': 'neutral', 'score': 0.536605179309845}]\n"
     ]
    }
   ],
   "source": [
    "text = dataset['train'][0]['text']\n",
    "result = sentiment_pipeline(text)\n",
    "print(result)"
   ]
  },
  {
   "cell_type": "code",
   "execution_count": 39,
   "id": "b2219ad3-0a80-40fa-95e6-c4c6bd82be8b",
   "metadata": {},
   "outputs": [
    {
     "name": "stderr",
     "output_type": "stream",
     "text": [
      "/var/folders/z7/jj2xy8g53jnd942hm_zfr1340000gn/T/ipykernel_53774/292476947.py:12: FutureWarning: \n",
      "\n",
      "Passing `palette` without assigning `hue` is deprecated and will be removed in v0.14.0. Assign the `x` variable to `hue` and set `legend=False` for the same effect.\n",
      "\n",
      "  sns.countplot(data=sentiment_df, x='Sentiment', palette='coolwarm')\n"
     ]
    },
    {
     "data": {
      "image/png": "[encoded data removed]",
      "text/plain": [
       "<Figure size 600x400 with 1 Axes>"
      ]
     },
     "metadata": {},
     "output_type": "display_data"
    }
   ],
   "source": [
    "# Collect sentiment results for 100 tweets \n",
    "sentiments = []\n",
    "for i in range(1000): \n",
    "    text = clean_text(dataset['train'][i]['text'])\n",
    "    result = sentiment_pipeline(text)\n",
    "    sentiments.append(result[0]['label'])\n",
    "\n",
    "# Convert to DataFrame \n",
    "sentiment_df = pd.DataFrame(sentiments, columns=['Sentiment'])\n",
    "\n",
    "plt.figure(figsize=(6,4))\n",
    "sns.countplot(data=sentiment_df, x='Sentiment', palette='coolwarm')\n",
    "plt.title(\"Stock Market Sentiment Analysis (First 100 Tweets)\")\n",
    "plt.xlabel(\"Sentiment\")\n",
    "plt.ylabel(\"Count\")\n",
    "plt.show()"
   ]
  },
  {
   "cell_type": "markdown",
   "id": "2d2d82fd",
   "metadata": {},
   "source": [
    "**Expected Insights:**\n",
    "- If **positive tweets dominates**, it may indicate **bullis**h** market sentiment. \n",
    "- If **positive tweets dominates**, it may suggest a **bearish** trend. \n",
    "- A **neutral balance** indicates mixed sentiment, suggesting uncertainty. "
   ]
  },
  {
   "cell_type": "markdown",
   "id": "e0f7d43e",
   "metadata": {},
   "source": [
    "## Conclusion \n",
    "This project demonstrates how **NLP can be used to analyze stock market sentiment**. By leveraging **Hugging Face's FinBERT**, I:\n",
    "- Successfully **classified finantial tweets**, into positive, negative, and neutral. \n",
    "- Visualized **how senttiment is distributed**.\n",
    "- Laid the groundwork for future applications, such as **correlating sentiment with actual stock prices**."
   ]
  }
 ],
 "metadata": {
  "kernelspec": {
   "display_name": "base",
   "language": "python",
   "name": "python3"
  },
  "language_info": {
   "codemirror_mode": {
    "name": "ipython",
    "version": 3
   },
   "file_extension": ".py",
   "mimetype": "text/x-python",
   "name": "python",
   "nbconvert_exporter": "python",
   "pygments_lexer": "ipython3",
   "version": "3.12.2"
  }
 },
 "nbformat": 4,
 "nbformat_minor": 5
}
