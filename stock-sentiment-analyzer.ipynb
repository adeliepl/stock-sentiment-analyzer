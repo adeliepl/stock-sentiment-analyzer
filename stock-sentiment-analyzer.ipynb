{
 "cells": [
  {
   "cell_type": "markdown",
   "id": "24f5e028-3070-4b10-ba62-d6ccb4dca103",
   "metadata": {},
   "source": [
    "# 📊 Stock Market Sentiment Analyzer\n",
    "\n",
    "**Goal:** Use NLP to analyze stock market sentiment from News and Twitter and compare it with stock price trends. \n",
    "\n",
    "## **Project Overview**\n",
    "This project aims to analyze sentiment in stock market-related tweets using Natural Language Processing (NLP). By leveraging **Hugging Face's FinBERT model**, we classify tweets as **positive, negative, or neutral** and explore how sentiment correlates with stock market trends. \n",
    "\n",
    "### ***Key Components***\n",
    "- Data Collection (Twitter & News)\n",
    "- Sentiment Analysis (Hugging Face models)\n",
    "- Text Cleaning & Preprocessing\n",
    "- Visualization & Interpretation\n",
    "- Comparison with Stock Price Trends "
   ]
  },
  {
   "cell_type": "markdown",
   "id": "bcb06546",
   "metadata": {},
   "source": [
    "## Important Necessary Libraries"
   ]
  },
  {
   "cell_type": "code",
   "execution_count": 6,
   "id": "a8b091dc-3dd5-447b-b487-fe1913bfed07",
   "metadata": {},
   "outputs": [
    {
     "ename": "ModuleNotFoundError",
     "evalue": "No module named 'matplotlib'",
     "output_type": "error",
     "traceback": [
      "\u001b[0;31m---------------------------------------------------------------------------\u001b[0m",
      "\u001b[0;31mModuleNotFoundError\u001b[0m                       Traceback (most recent call last)",
      "Cell \u001b[0;32mIn[6], line 5\u001b[0m\n\u001b[1;32m      3\u001b[0m \u001b[38;5;28;01mimport\u001b[39;00m\u001b[38;5;250m \u001b[39m\u001b[38;5;21;01mpandas\u001b[39;00m\u001b[38;5;250m \u001b[39m\u001b[38;5;28;01mas\u001b[39;00m\u001b[38;5;250m \u001b[39m\u001b[38;5;21;01mpd\u001b[39;00m\n\u001b[1;32m      4\u001b[0m \u001b[38;5;28;01mimport\u001b[39;00m\u001b[38;5;250m \u001b[39m\u001b[38;5;21;01mnumpy\u001b[39;00m\u001b[38;5;250m \u001b[39m\u001b[38;5;28;01mas\u001b[39;00m\u001b[38;5;250m \u001b[39m\u001b[38;5;21;01mnp\u001b[39;00m\n\u001b[0;32m----> 5\u001b[0m \u001b[38;5;28;01mimport\u001b[39;00m\u001b[38;5;250m \u001b[39m\u001b[38;5;21;01mmatplotlib\u001b[39;00m\u001b[38;5;21;01m.\u001b[39;00m\u001b[38;5;21;01mpyplot\u001b[39;00m\u001b[38;5;250m \u001b[39m\u001b[38;5;28;01mas\u001b[39;00m\u001b[38;5;250m \u001b[39m\u001b[38;5;21;01mplt\u001b[39;00m\n\u001b[1;32m      6\u001b[0m \u001b[38;5;28;01mimport\u001b[39;00m\u001b[38;5;250m \u001b[39m\u001b[38;5;21;01mseaborn\u001b[39;00m\u001b[38;5;250m \u001b[39m\u001b[38;5;28;01mas\u001b[39;00m\u001b[38;5;250m \u001b[39m\u001b[38;5;21;01msns\u001b[39;00m\n\u001b[1;32m      7\u001b[0m \u001b[38;5;28;01mimport\u001b[39;00m\u001b[38;5;250m \u001b[39m\u001b[38;5;21;01myfinance\u001b[39;00m\u001b[38;5;250m \u001b[39m\u001b[38;5;28;01mas\u001b[39;00m\u001b[38;5;250m \u001b[39m\u001b[38;5;21;01myf\u001b[39;00m \n",
      "\u001b[0;31mModuleNotFoundError\u001b[0m: No module named 'matplotlib'"
     ]
    }
   ],
   "source": [
    "# Important Necessary Libraries\n",
    "from IPython.display import display\n",
    "import pandas as pd\n",
    "import numpy as np\n",
    "import matplotlib.pyplot as plt\n",
    "import seaborn as sns\n",
    "import yfinance as yf \n",
    "import re\n",
    "\n",
    "# NLP & Sentiment Analysis \n",
    "from datasets import load_dataset\n",
    "from transformers import pipeline\n"
   ]
  },
  {
   "cell_type": "markdown",
   "id": "d975a564",
   "metadata": {},
   "source": [
    "## Load Dataset"
   ]
  },
  {
   "cell_type": "code",
   "execution_count": null,
   "id": "25f153a7-47c7-4093-9ba2-10b5b1cd9deb",
   "metadata": {},
   "outputs": [
    {
     "ename": "NameError",
     "evalue": "name 'load_dataset' is not defined",
     "output_type": "error",
     "traceback": [
      "\u001b[0;31m---------------------------------------------------------------------------\u001b[0m",
      "\u001b[0;31mNameError\u001b[0m                                 Traceback (most recent call last)",
      "Cell \u001b[0;32mIn[3], line 2\u001b[0m\n\u001b[1;32m      1\u001b[0m \u001b[38;5;66;03m# Load datasets from Hugging Face\u001b[39;00m\n\u001b[0;32m----> 2\u001b[0m dataset \u001b[38;5;241m=\u001b[39m \u001b[43mload_dataset\u001b[49m (\u001b[38;5;124m\"\u001b[39m\u001b[38;5;124mStephanAkkerman/stock-market-tweets-data\u001b[39m\u001b[38;5;124m\"\u001b[39m)\n\u001b[1;32m      4\u001b[0m \u001b[38;5;66;03m# Get the number of tweets in the dataset\u001b[39;00m\n\u001b[1;32m      5\u001b[0m num_tweets \u001b[38;5;241m=\u001b[39m \u001b[38;5;28mlen\u001b[39m(dataset[\u001b[38;5;124m'\u001b[39m\u001b[38;5;124mtrain\u001b[39m\u001b[38;5;124m'\u001b[39m])\n",
      "\u001b[0;31mNameError\u001b[0m: name 'load_dataset' is not defined"
     ]
    }
   ],
   "source": [
    "# Load datasets from Hugging Face\n",
    "dataset = load_dataset (\"StephanAkkerman/stock-market-tweets-data\")\n",
    "\n",
    "# Get the number of tweets in the dataset\n",
    "num_tweets = len(dataset['train'])\n",
    "num_tweets"
   ]
  },
  {
   "cell_type": "code",
   "execution_count": null,
   "id": "c1f79379",
   "metadata": {},
   "outputs": [
    {
     "ename": "NameError",
     "evalue": "name 'dataset' is not defined",
     "output_type": "error",
     "traceback": [
      "\u001b[0;31m---------------------------------------------------------------------------\u001b[0m",
      "\u001b[0;31mNameError\u001b[0m                                 Traceback (most recent call last)",
      "Cell \u001b[0;32mIn[4], line 2\u001b[0m\n\u001b[1;32m      1\u001b[0m \u001b[38;5;66;03m# Display first few entries \u001b[39;00m\n\u001b[0;32m----> 2\u001b[0m \u001b[38;5;28mprint\u001b[39m(\u001b[43mdataset\u001b[49m[\u001b[38;5;124m'\u001b[39m\u001b[38;5;124mtrain\u001b[39m\u001b[38;5;124m'\u001b[39m][:\u001b[38;5;241m5\u001b[39m])\n",
      "\u001b[0;31mNameError\u001b[0m: name 'dataset' is not defined"
     ]
    }
   ],
   "source": [
    "# Display first few entries \n",
    "print(dataset['train'][:5])"
   ]
  },
  {
   "cell_type": "code",
   "execution_count": null,
   "id": "36acca4a",
   "metadata": {},
   "outputs": [
    {
     "name": "stdout",
     "output_type": "stream",
     "text": [
      "       id                 created_at  \\\n",
      "0  593725  2020-06-20 16:31:32+00:00   \n",
      "1  631451  2020-06-23 08:13:45+00:00   \n",
      "2  289208  2020-05-05 01:15:12+00:00   \n",
      "3  908741  2020-07-15 21:16:10+00:00   \n",
      "4  436965  2020-06-06 12:55:58+00:00   \n",
      "\n",
      "                                                text  \n",
      "0  RT @SeekingAlpha: MacroView: Retail Sales Boun...  \n",
      "1  $FB - Facebook: Short-Term Pain, But Long-Term...  \n",
      "2  RT @WallStSai: NEW ZEALAND RECORDS NO NEW CASE...  \n",
      "3  RT @Street_Insider: Amazon CEO Jeff Bezos' Twi...  \n",
      "4  RT @ISABELNET_SA: 📌Markets\\n\\nAccording to Bof...  \n"
     ]
    }
   ],
   "source": [
    "sample_size = 5000\n",
    "sampled_tweets = random.sample(list(dataset['train']), sample_size)\n",
    "\n",
    "df_tweets = pd.DataFrame(sampled_tweets)\n",
    "\n",
    "# Display first few raws\n",
    "print(df_tweets.head())"
   ]
  },
  {
   "cell_type": "markdown",
   "id": "d89ccdb9",
   "metadata": {},
   "source": [
    "## **Text Cleaning and Preprocessing**\n",
    "Before analysis sentiment, we need to clean the text to:\n",
    "1. Remove URLs, mentions, and special characters. \n",
    "2. Standardize formatting for better NLP performance."
   ]
  },
  {
   "cell_type": "code",
   "execution_count": null,
   "id": "da83d250",
   "metadata": {},
   "outputs": [
    {
     "name": "stdout",
     "output_type": "stream",
     "text": [
      "Original: @KennyDegu very very little volume. With $10T you'd think they could have $SPX  trading at 10,000 by now.\n",
      "Cleaned: very very little volume With $10T youd think they could have $SPX  trading at 10000 by now\n"
     ]
    }
   ],
   "source": [
    "def clean_text(text):\n",
    "    text = re.sub(r'http\\S+', '', text) # Remove URL\n",
    "    text = re.sub(r'@\\w+', '', text)    # Remove mentions @user \n",
    "    text = re.sub(r'#\\w+','', text)     # Remove hashtags\n",
    "    text = re.sub(r'#[A-Za-z0-9] +', ' ', text) # Remove special characters \n",
    "    text = re.sub(r'[^\\w\\s$]','', text) # Keep words, numbers, and \"$\" (for stocks)\n",
    "    return text.strip()\n",
    "\n",
    "# Test on first tweet\n",
    "sample_text = dataset['train'][0]['text']\n",
    "print(\"Original:\", sample_text)\n",
    "print(\"Cleaned:\", clean_text(sample_text))"
   ]
  },
  {
   "cell_type": "markdown",
   "id": "e4db3a26",
   "metadata": {},
   "source": [
    "## **Sentiment Analysis using FinBERT**\n",
    "We use a pre-trained **FinBERT** modelfrom Hugging Face to classify tweets as:\n",
    "- Positive\n",
    "- Neutral\n",
    "- Negative"
   ]
  },
  {
   "cell_type": "code",
   "execution_count": null,
   "id": "0d7d6e7f-393d-4ec8-9c4e-75e027c0cf67",
   "metadata": {},
   "outputs": [
    {
     "name": "stderr",
     "output_type": "stream",
     "text": [
      "Device set to use mps:0\n"
     ]
    },
    {
     "name": "stdout",
     "output_type": "stream",
     "text": [
      "Tweet: very very little volume With $10T youd think they could have $SPX  trading at 10000 by now\n",
      "Sentiment neutral (confidence: 0.70)\n"
     ]
    }
   ],
   "source": [
    "# Load FinBERT model\n",
    "sentiment_pipeline = pipeline(\"text-classification\", model=\"ProsusAI/finbert\")\n",
    "\n",
    "# Test on a sample tweet\n",
    "test_tweet = clean_text(dataset['train'][0]['text'])\n",
    "result = sentiment_pipeline(test_tweet)\n",
    "\n",
    "print(f\"Tweet: {test_tweet}\\nSentiment {result[0]['label']} (confidence: {result[0]['score']:.2f})\")"
   ]
  },
  {
   "cell_type": "code",
   "execution_count": null,
   "id": "8bb89f4d",
   "metadata": {},
   "outputs": [],
   "source": []
  },
  {
   "cell_type": "markdown",
   "id": "32d7eec0",
   "metadata": {},
   "source": [
    "### **Batch Sentiment Analysis**\n",
    "We analyze the sentiment of a **large dataset** (20,000 tweets) to identify trends"
   ]
  },
  {
   "cell_type": "code",
   "execution_count": null,
   "id": "4a5bbaa4",
   "metadata": {},
   "outputs": [],
   "source": [
    "num_tweets = 20000\n",
    "batch_size = 1000\n",
    "\n",
    "# Convert dataset to DataFrame (first 20,000 tweets)\n",
    "df_tweets = pd.DataFrame(dataset['train'][:20000])\n",
    "\n",
    "df_tweets['cleaned_text'] = df_tweets['text'].apply(clean_text)\n",
    "\n",
    "# Initialize empty list to store sentiment \n",
    "sentiments = []\n",
    "\n",
    "# Process tweets in batch \n",
    "batch_size = 1000 \n",
    "for i in range (0, 20000, batch_size):\n",
    "    batch_texts = df_tweets['cleaned_text'][i:i + batch_size].to_list()\n",
    "    batch_results = sentiment_pipeline(batch_texts) # Get sentiment predictions\n",
    "\n",
    "    batch_sentiments = [result['label'] for result in batch_results]\n",
    "    sentiments.extend(batch_sentiments)\n",
    "\n",
    "df_tweets['sentiment'] = sentiments"
   ]
  },
  {
   "cell_type": "code",
   "execution_count": null,
   "id": "cedf90bc",
   "metadata": {},
   "outputs": [
    {
     "data": {
      "text/html": [
       "<div>\n",
       "<style scoped>\n",
       "    .dataframe tbody tr th:only-of-type {\n",
       "        vertical-align: middle;\n",
       "    }\n",
       "\n",
       "    .dataframe tbody tr th {\n",
       "        vertical-align: top;\n",
       "    }\n",
       "\n",
       "    .dataframe thead th {\n",
       "        text-align: right;\n",
       "    }\n",
       "</style>\n",
       "<table border=\"1\" class=\"dataframe\">\n",
       "  <thead>\n",
       "    <tr style=\"text-align: right;\">\n",
       "      <th></th>\n",
       "      <th>id</th>\n",
       "      <th>created_at</th>\n",
       "      <th>text</th>\n",
       "      <th>cleaned_text</th>\n",
       "      <th>sentiment</th>\n",
       "    </tr>\n",
       "  </thead>\n",
       "  <tbody>\n",
       "    <tr>\n",
       "      <th>0</th>\n",
       "      <td>1</td>\n",
       "      <td>2020-04-09 23:59:51+00:00</td>\n",
       "      <td>@KennyDegu very very little volume. With $10T ...</td>\n",
       "      <td>very very little volume With $10T youd think t...</td>\n",
       "      <td>neutral</td>\n",
       "    </tr>\n",
       "    <tr>\n",
       "      <th>1</th>\n",
       "      <td>2</td>\n",
       "      <td>2020-04-09 23:58:55+00:00</td>\n",
       "      <td>#ES_F achieved Target 2780 closing above 50% #...</td>\n",
       "      <td>achieved Target 2780 closing above 50   level ...</td>\n",
       "      <td>positive</td>\n",
       "    </tr>\n",
       "    <tr>\n",
       "      <th>2</th>\n",
       "      <td>3</td>\n",
       "      <td>2020-04-09 23:58:52+00:00</td>\n",
       "      <td>RT @KimbleCharting: Silver/Gold indicator crea...</td>\n",
       "      <td>RT  SilverGold indicator creates one of the la...</td>\n",
       "      <td>positive</td>\n",
       "    </tr>\n",
       "    <tr>\n",
       "      <th>3</th>\n",
       "      <td>4</td>\n",
       "      <td>2020-04-09 23:58:27+00:00</td>\n",
       "      <td>@Issaquahfunds Hedged our $MSFT position into ...</td>\n",
       "      <td>Hedged our $MSFT position into close Seemed to...</td>\n",
       "      <td>negative</td>\n",
       "    </tr>\n",
       "    <tr>\n",
       "      <th>4</th>\n",
       "      <td>5</td>\n",
       "      <td>2020-04-09 23:57:59+00:00</td>\n",
       "      <td>RT @zipillinois: 3 Surprisingly Controversial ...</td>\n",
       "      <td>RT  3 Surprisingly Controversial Stocks in Don...</td>\n",
       "      <td>neutral</td>\n",
       "    </tr>\n",
       "    <tr>\n",
       "      <th>5</th>\n",
       "      <td>6</td>\n",
       "      <td>2020-04-09 23:57:33+00:00</td>\n",
       "      <td>RT @Crypto____World: 🇿🇼ZIMBABWE🇿🇼\\n\\nCRYPTO NE...</td>\n",
       "      <td>RT  ZIMBABWE\\n\\nCRYPTO NEWS\\n\\nGovernment team...</td>\n",
       "      <td>positive</td>\n",
       "    </tr>\n",
       "    <tr>\n",
       "      <th>6</th>\n",
       "      <td>7</td>\n",
       "      <td>2020-04-09 23:57:27+00:00</td>\n",
       "      <td>Pfizer Shares Acquired by Ipswich Investment M...</td>\n",
       "      <td>Pfizer Shares Acquired by Ipswich Investment M...</td>\n",
       "      <td>neutral</td>\n",
       "    </tr>\n",
       "    <tr>\n",
       "      <th>7</th>\n",
       "      <td>10</td>\n",
       "      <td>2020-04-09 23:57:08+00:00</td>\n",
       "      <td>RT @NorthmanTrader: I repeat: The Fed is reckl...</td>\n",
       "      <td>RT  I repeat The Fed is recklessly distorting ...</td>\n",
       "      <td>negative</td>\n",
       "    </tr>\n",
       "    <tr>\n",
       "      <th>8</th>\n",
       "      <td>12</td>\n",
       "      <td>2020-04-09 23:57:01+00:00</td>\n",
       "      <td>S&amp;amp;P 500 | $SPX | $SPX500 $USD\\n\\nlong term...</td>\n",
       "      <td>SampP 500  $SPX  $SPX500 $USD\\n\\nlong term fro...</td>\n",
       "      <td>neutral</td>\n",
       "    </tr>\n",
       "    <tr>\n",
       "      <th>9</th>\n",
       "      <td>13</td>\n",
       "      <td>2020-04-09 23:56:58+00:00</td>\n",
       "      <td>RT @TDANetwork: 📽️ #TheWatchList panel assesse...</td>\n",
       "      <td>RT    panel assesses the big questions $AAPL w...</td>\n",
       "      <td>neutral</td>\n",
       "    </tr>\n",
       "  </tbody>\n",
       "</table>\n",
       "</div>"
      ],
      "text/plain": [
       "   id                 created_at  \\\n",
       "0   1  2020-04-09 23:59:51+00:00   \n",
       "1   2  2020-04-09 23:58:55+00:00   \n",
       "2   3  2020-04-09 23:58:52+00:00   \n",
       "3   4  2020-04-09 23:58:27+00:00   \n",
       "4   5  2020-04-09 23:57:59+00:00   \n",
       "5   6  2020-04-09 23:57:33+00:00   \n",
       "6   7  2020-04-09 23:57:27+00:00   \n",
       "7  10  2020-04-09 23:57:08+00:00   \n",
       "8  12  2020-04-09 23:57:01+00:00   \n",
       "9  13  2020-04-09 23:56:58+00:00   \n",
       "\n",
       "                                                text  \\\n",
       "0  @KennyDegu very very little volume. With $10T ...   \n",
       "1  #ES_F achieved Target 2780 closing above 50% #...   \n",
       "2  RT @KimbleCharting: Silver/Gold indicator crea...   \n",
       "3  @Issaquahfunds Hedged our $MSFT position into ...   \n",
       "4  RT @zipillinois: 3 Surprisingly Controversial ...   \n",
       "5  RT @Crypto____World: 🇿🇼ZIMBABWE🇿🇼\\n\\nCRYPTO NE...   \n",
       "6  Pfizer Shares Acquired by Ipswich Investment M...   \n",
       "7  RT @NorthmanTrader: I repeat: The Fed is reckl...   \n",
       "8  S&amp;P 500 | $SPX | $SPX500 $USD\\n\\nlong term...   \n",
       "9  RT @TDANetwork: 📽️ #TheWatchList panel assesse...   \n",
       "\n",
       "                                        cleaned_text sentiment  \n",
       "0  very very little volume With $10T youd think t...   neutral  \n",
       "1  achieved Target 2780 closing above 50   level ...  positive  \n",
       "2  RT  SilverGold indicator creates one of the la...  positive  \n",
       "3  Hedged our $MSFT position into close Seemed to...  negative  \n",
       "4  RT  3 Surprisingly Controversial Stocks in Don...   neutral  \n",
       "5  RT  ZIMBABWE\\n\\nCRYPTO NEWS\\n\\nGovernment team...  positive  \n",
       "6  Pfizer Shares Acquired by Ipswich Investment M...   neutral  \n",
       "7  RT  I repeat The Fed is recklessly distorting ...  negative  \n",
       "8  SampP 500  $SPX  $SPX500 $USD\\n\\nlong term fro...   neutral  \n",
       "9  RT    panel assesses the big questions $AAPL w...   neutral  "
      ]
     },
     "metadata": {},
     "output_type": "display_data"
    }
   ],
   "source": [
    "# Display results\n",
    "display(df_tweets.head(10))"
   ]
  },
  {
   "cell_type": "code",
   "execution_count": null,
   "id": "a81530a6",
   "metadata": {},
   "outputs": [],
   "source": []
  },
  {
   "cell_type": "markdown",
   "id": "702d1f3a",
   "metadata": {},
   "source": [
    "## **Visualization of Sentiment Distribution**\n",
    "How are sentiments distributed across all tweets?"
   ]
  },
  {
   "cell_type": "code",
   "execution_count": null,
   "id": "4a687a10",
   "metadata": {},
   "outputs": [
    {
     "name": "stderr",
     "output_type": "stream",
     "text": [
      "/var/folders/z7/jj2xy8g53jnd942hm_zfr1340000gn/T/ipykernel_57124/3462984233.py:3: FutureWarning: \n",
      "\n",
      "Passing `palette` without assigning `hue` is deprecated and will be removed in v0.14.0. Assign the `x` variable to `hue` and set `legend=False` for the same effect.\n",
      "\n",
      "  sns.countplot(data=df_tweets, x='sentiment', palette='coolwarm')\n"
     ]
    },
    {
     "data": {
      "image/png": "[encoded data removed]",
      "text/plain": [
       "<Figure size 600x400 with 1 Axes>"
      ]
     },
     "metadata": {},
     "output_type": "display_data"
    }
   ],
   "source": [
    "# Plot the sentiment distribution\n",
    "plt.figure(figsize=(6,4))\n",
    "sns.countplot(data=df_tweets, x='sentiment', palette='coolwarm')\n",
    "\n",
    "plt.title(\"Stock Market Sentiment Analysis (First 20,000 Tweets)\")\n",
    "plt.xlabel(\"Sentiment\")\n",
    "plt.ylabel(\"Count\")\n",
    "plt.show()"
   ]
  },
  {
   "cell_type": "markdown",
   "id": "2d2d82fd",
   "metadata": {},
   "source": [
    "**Expected Insights:**\n",
    "- If **positive tweets dominates**, it may indicate **bullis**h** market sentiment. \n",
    "- If **positive tweets dominates**, it may suggest a **bearish** trend. \n",
    "- A **neutral balance** indicates mixed sentiment, suggesting uncertainty. "
   ]
  },
  {
   "cell_type": "markdown",
   "id": "72ebb5c9",
   "metadata": {},
   "source": [
    "## **Stock Prices vs. Public Sentiment**\n",
    "Now, we compare sentiment trends with stock price movements. "
   ]
  },
  {
   "cell_type": "code",
   "execution_count": null,
   "id": "901cd0c7",
   "metadata": {},
   "outputs": [
    {
     "name": "stderr",
     "output_type": "stream",
     "text": [
      "[*********************100%***********************]  1 of 1 completed\n"
     ]
    },
    {
     "data": {
      "image/png": "[encoded data removed]",
      "text/plain": [
       "<Figure size 1200x500 with 1 Axes>"
      ]
     },
     "metadata": {},
     "output_type": "display_data"
    }
   ],
   "source": [
    "stock_symbol = \"AAPL\"\n",
    "stock_data = yf.download(stock_symbol, period=\"1y\")\n",
    "\n",
    "plt.figure(figsize=(12,5))\n",
    "plt.plot(stock_data.index, stock_data['Close'], label='Stock Price', color='blue')\n",
    "plt.title(f\"{stock_symbol} Stock Price Over Time\")\n",
    "plt.xlabel(\"Date\")\n",
    "plt.ylabel(\"Closing Price\")\n",
    "plt.legend()\n",
    "plt.show()"
   ]
  },
  {
   "cell_type": "code",
   "execution_count": null,
   "id": "561a5058",
   "metadata": {},
   "outputs": [
    {
     "ename": "NameError",
     "evalue": "name 'pipeline' is not defined",
     "output_type": "error",
     "traceback": [
      "\u001b[0;31m---------------------------------------------------------------------------\u001b[0m",
      "\u001b[0;31mNameError\u001b[0m                                 Traceback (most recent call last)",
      "Cell \u001b[0;32mIn[1], line 2\u001b[0m\n\u001b[1;32m      1\u001b[0m \u001b[38;5;66;03m# Load FinBERT model (already in your code)\u001b[39;00m\n\u001b[0;32m----> 2\u001b[0m sentiment_pipeline \u001b[38;5;241m=\u001b[39m \u001b[43mpipeline\u001b[49m(\u001b[38;5;124m\"\u001b[39m\u001b[38;5;124mtext-classification\u001b[39m\u001b[38;5;124m\"\u001b[39m, model\u001b[38;5;241m=\u001b[39m\u001b[38;5;124m\"\u001b[39m\u001b[38;5;124mProsusAI/finbert\u001b[39m\u001b[38;5;124m\"\u001b[39m)\n\u001b[1;32m      4\u001b[0m \u001b[38;5;66;03m# Function to compute weighted sentiment score\u001b[39;00m\n\u001b[1;32m      5\u001b[0m \u001b[38;5;28;01mdef\u001b[39;00m\u001b[38;5;250m \u001b[39m\u001b[38;5;21mcompute_sentiment_score\u001b[39m(result):\n",
      "\u001b[0;31mNameError\u001b[0m: name 'pipeline' is not defined"
     ]
    }
   ],
   "source": [
    "# Load FinBERT model (already in your code)\n",
    "sentiment_pipeline = pipeline(\"text-classification\", model=\"ProsusAI/finbert\")\n",
    "\n",
    "# Function to compute weighted sentiment score\n",
    "def compute_sentiment_score(result):\n",
    "    label = result['label']\n",
    "    confidence = result['score']\n",
    "    if label == 'positive':\n",
    "        return 1 * confidence\n",
    "    elif label == 'negative':\n",
    "        return -1 * confidence\n",
    "    else:  # neutral\n",
    "        return 0\n",
    "\n",
    "# Batch process tweets and compute scores\n",
    "num_tweets = 20000\n",
    "batch_size = 1000\n",
    "\n",
    "# Convert dataset to DataFrame (first 20,000 tweets)\n",
    "df_tweets = pd.DataFrame(dataset['train'][:num_tweets])\n",
    "df_tweets['cleaned_text'] = df_tweets['text'].apply(clean_text)\n",
    "\n",
    "# Initialize lists for sentiments and scores\n",
    "sentiments = []\n",
    "sentiment_scores = []\n",
    "\n",
    "# Process tweets in batches\n",
    "for i in range(0, num_tweets, batch_size):\n",
    "    batch_texts = df_tweets['cleaned_text'][i:i + batch_size].to_list()\n",
    "    batch_results = sentiment_pipeline(batch_texts)  # Get sentiment predictions\n",
    "    \n",
    "    # Extract labels and compute scores\n",
    "    batch_sentiments = [result['label'] for result in batch_results]\n",
    "    batch_scores = [compute_sentiment_score(result) for result in batch_results]\n",
    "    \n",
    "    sentiments.extend(batch_sentiments)\n",
    "    sentiment_scores.extend(batch_scores)\n",
    "\n",
    "# Add results to DataFrame\n",
    "df_tweets['sentiment'] = sentiments\n",
    "df_tweets['sentiment_score'] = sentiment_scores\n",
    "\n",
    "# Display first few rows\n",
    "display(df_tweets.head(10))"
   ]
  },
  {
   "cell_type": "markdown",
   "id": "e0f7d43e",
   "metadata": {},
   "source": [
    "## Conclusion \n",
    "This project demonstrates how **NLP can be used to analyze stock market sentiment**. By leveraging **Hugging Face's FinBERT**, I:\n",
    "- Successfully **classified finantial tweets**, into positive, negative, and neutral. \n",
    "- Visualized **how sentiment is distributed**."
   ]
  },
  {
   "cell_type": "markdown",
   "id": "805545ff",
   "metadata": {},
   "source": []
  }
 ],
 "metadata": {
  "kernelspec": {
   "display_name": "jupyter-ai",
   "language": "python",
   "name": "python3"
  },
  "language_info": {
   "codemirror_mode": {
    "name": "ipython",
    "version": 3
   },
   "file_extension": ".py",
   "mimetype": "text/x-python",
   "name": "python",
   "nbconvert_exporter": "python",
   "pygments_lexer": "ipython3",
   "version": "3.11.11"
  }
 },
 "nbformat": 4,
 "nbformat_minor": 5
}
